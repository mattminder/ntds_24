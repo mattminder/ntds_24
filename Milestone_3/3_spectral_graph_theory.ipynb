{
 "cells": [
  {
   "cell_type": "markdown",
   "metadata": {},
   "source": [
    "# [NTDS'18] milestone 3: spectral graph theory\n",
    "[ntds'18]: https://github.com/mdeff/ntds_2018\n",
    "\n",
    "[Michaël Defferrard](http://deff.ch), [EPFL LTS2](https://lts2.epfl.ch)"
   ]
  },
  {
   "cell_type": "markdown",
   "metadata": {},
   "source": [
    "## Students\n",
    "\n",
    "* Team: `24`\n",
    "* Students: `Marc Glettig, Matthias Minder, Yves Rychener, Charles Trotin`\n",
    "* Dataset: `Wikipedia Dataset`"
   ]
  },
  {
   "cell_type": "markdown",
   "metadata": {},
   "source": [
    "## Rules\n",
    "\n",
    "* Milestones have to be completed by teams. No collaboration between teams is allowed.\n",
    "* Textual answers shall be short. Typically one to two sentences.\n",
    "* Code has to be clean.\n",
    "* You cannot import any other library than we imported.\n",
    "* When submitting, the notebook is executed and the results are stored. I.e., if you open the notebook again it should show numerical results and plots. We won't be able to execute your notebooks.\n",
    "* The notebook is re-executed from a blank state before submission. That is to be sure it is reproducible. You can click \"Kernel\" then \"Restart & Run All\" in Jupyter."
   ]
  },
  {
   "cell_type": "markdown",
   "metadata": {},
   "source": [
    "## Objective\n",
    "\n",
    "The goal of this milestone is to get familiar with the graph Laplacian and its spectral decomposition."
   ]
  },
  {
   "cell_type": "markdown",
   "metadata": {},
   "source": [
    "## 0 Load your network"
   ]
  },
  {
   "cell_type": "code",
   "execution_count": 1,
   "metadata": {},
   "outputs": [],
   "source": [
    "%matplotlib inline"
   ]
  },
  {
   "cell_type": "markdown",
   "metadata": {},
   "source": [
    "If you get a `No module named 'sklearn'` error when running the below cell, install [scikit-learn](https://scikit-learn.org) with `conda install scikit-learn` (after activating the `ntds_2018` environment)."
   ]
  },
  {
   "cell_type": "code",
   "execution_count": 2,
   "metadata": {},
   "outputs": [],
   "source": [
    "import numpy as np\n",
    "from scipy import sparse\n",
    "import scipy.sparse.linalg\n",
    "import matplotlib.pyplot as plt\n",
    "from sklearn.cluster import KMeans"
   ]
  },
  {
   "cell_type": "markdown",
   "metadata": {},
   "source": [
    "Let's denote your graph as $\\mathcal{G} = (\\mathcal{V}, \\mathcal{E}, A)$, where $\\mathcal{V}$ is the set of nodes, $\\mathcal{E}$ is the set of edges, $A \\in \\mathbb{R}^{N \\times N}$ is the (weighted) adjacency matrix, and $N = |\\mathcal{V}|$ is the number of nodes.\n",
    "\n",
    "Import the adjacency matrix $A$ that you constructed in the first milestone.\n",
    "(You're allowed to update it between milestones if you want to.)"
   ]
  },
  {
   "cell_type": "code",
   "execution_count": 3,
   "metadata": {},
   "outputs": [],
   "source": [
    "DATA_FOLDER = 'data/'"
   ]
  },
  {
   "cell_type": "code",
   "execution_count": 4,
   "metadata": {},
   "outputs": [],
   "source": [
    "adjacency = np.load(DATA_FOLDER + 'sym_adj_matrix_lc.npy')\n",
    "n_nodes =  adjacency.shape[0]"
   ]
  },
  {
   "cell_type": "markdown",
   "metadata": {},
   "source": [
    "*We use only the largest component, because as seen in assignement 1, our network consists of 1 component and some disconnected nodes. The disconnected nodes have degree zero, so the diagonal matrix D has some diagonal entries that are 0. Therefore D is not invertible, so we cannot construct the normalised Laplacian with the whole network.*"
   ]
  },
  {
   "cell_type": "markdown",
   "metadata": {},
   "source": [
    "## 1 Graph Laplacian"
   ]
  },
  {
   "cell_type": "markdown",
   "metadata": {},
   "source": [
    "### Question 1\n",
    "\n",
    "From the (weighted) adjacency matrix $A$, compute both the combinatorial (also called unnormalized) and the normalized graph Laplacian matrices.\n",
    "\n",
    "Note: if your graph is weighted, use the weighted adjacency matrix. If not, use the binary adjacency matrix.\n",
    "\n",
    "For efficient storage and computation, store these sparse matrices in a [compressed sparse row (CSR) format](https://en.wikipedia.org/wiki/Sparse_matrix#Compressed_sparse_row_.28CSR.2C_CRS_or_Yale_format.29)."
   ]
  },
  {
   "cell_type": "code",
   "execution_count": 5,
   "metadata": {},
   "outputs": [],
   "source": [
    "D = np.diag(np.sum(adjacency,axis=0))\n",
    "D_sqrt_inv = sparse.csr_matrix(np.diag(1/np.sqrt(np.sum(adjacency,axis=0))))"
   ]
  },
  {
   "cell_type": "code",
   "execution_count": 6,
   "metadata": {},
   "outputs": [],
   "source": [
    "laplacian_combinatorial =  sparse.csr_matrix(D - adjacency, dtype=float)\n",
    "laplacian_normalized =  D_sqrt_inv*laplacian_combinatorial*D_sqrt_inv"
   ]
  },
  {
   "cell_type": "markdown",
   "metadata": {},
   "source": [
    "Use one of them as the graph Laplacian $L$ for the rest of the milestone.\n",
    "We however encourage you to run the code with both to get a sense of the difference!"
   ]
  },
  {
   "cell_type": "code",
   "execution_count": 7,
   "metadata": {},
   "outputs": [],
   "source": [
    "laplacian =  laplacian_normalized"
   ]
  },
  {
   "cell_type": "markdown",
   "metadata": {},
   "source": [
    "### Question 2\n",
    "\n",
    "Compute the eigendecomposition of the Laplacian $L = U \\Lambda U^\\top$, where the columns $u_k \\in \\mathbb{R}^N$ of $U = [u_1, \\dots, u_N] \\in \\mathbb{R}^{N \\times N}$ are the eigenvectors and the diagonal elements $\\lambda_k = \\Lambda_{kk}$ are the corresponding eigenvalues.\n",
    "\n",
    "Make sure that the eigenvalues are ordered, i.e., $0 = \\lambda_1 \\leq \\lambda_2 \\leq \\dots \\leq \\lambda_N$."
   ]
  },
  {
   "cell_type": "code",
   "execution_count": 8,
   "metadata": {},
   "outputs": [],
   "source": [
    "vals,vec = w, v = np.linalg.eig(laplacian.toarray())"
   ]
  },
  {
   "cell_type": "code",
   "execution_count": 9,
   "metadata": {},
   "outputs": [],
   "source": [
    "order = vals.argsort()\n",
    "\n",
    "eigenvectors =  np.real(vec[order,:])\n",
    "eigenvalues =  np.real(vals[order])\n",
    "\n",
    "assert eigenvectors.shape == (n_nodes, n_nodes)"
   ]
  },
  {
   "cell_type": "markdown",
   "metadata": {},
   "source": [
    "*Verifying that $\\lambda_1=0$:*"
   ]
  },
  {
   "cell_type": "code",
   "execution_count": 10,
   "metadata": {},
   "outputs": [
    {
     "data": {
      "text/plain": [
       "-1.9630917898797318e-16"
      ]
     },
     "execution_count": 10,
     "metadata": {},
     "output_type": "execute_result"
    }
   ],
   "source": [
    "eigenvalues[0]"
   ]
  },
  {
   "cell_type": "markdown",
   "metadata": {},
   "source": [
    "*Verifying that the eigenvalues are all real:*"
   ]
  },
  {
   "cell_type": "code",
   "execution_count": 11,
   "metadata": {},
   "outputs": [
    {
     "name": "stdout",
     "output_type": "stream",
     "text": [
      "Sum of eigenvalue complex parts:0.0\n",
      "Sum of eigenvector complex parts:5.326058775814807e-18\n"
     ]
    }
   ],
   "source": [
    "print('Sum of eigenvalue complex parts:'+str(np.sum(np.imag(vals))))\n",
    "print('Sum of eigenvector complex parts:'+str(np.sum(np.imag(vec))))"
   ]
  },
  {
   "cell_type": "markdown",
   "metadata": {},
   "source": [
    "Justify your choice of eigensolver."
   ]
  },
  {
   "cell_type": "markdown",
   "metadata": {},
   "source": [
    "*Ideally, we would want to use a sparse eigensolver, but the solver in `scipy.sparse.linalg.eigs` can not compute all eigenvalues and -vectors, which is what we need in order to perform eigendecomposition. We therefore use the solver in `numpy.linalg`, it suffices for our purposes. The eigenvalues are ordered in increasing order, so we have to flip the arrays of eigenvalues and eigenvectors. <br>\n",
    "The fact that the smallest eigenvalue is not exactly zero can probably be attributed to rounding errors of the float datatype.*"
   ]
  },
  {
   "cell_type": "markdown",
   "metadata": {},
   "source": [
    "### Question 3\n",
    "\n",
    "We can write $L = S S^\\top$. What is the matrix $S$? What does $S^\\top x$, with $x \\in \\mathbb{R}^N$, compute?"
   ]
  },
  {
   "cell_type": "markdown",
   "metadata": {},
   "source": [
    "*$S$ can be thaught of as a finite difference operator along edges. $(S^\\top x)[j]$ is the derivative of the signal along the edge $j$. Therefore, $S^\\top x$ calculates the derivative along all edges. Note that although we use the term derivative, it is not a derivative in the strict sense as we cannot let the distance tend to 0. It is just the difference of the signal value at the two nodes neighbouring an edge.*\n"
   ]
  },
  {
   "cell_type": "markdown",
   "metadata": {},
   "source": [
    "### Question 4\n",
    "\n",
    "Show that $\\lambda_k = \\| S^\\top u_k \\|_2^2$, where $\\| \\cdot \\|_2^2$ denotes the squared Euclidean norm (a.k.a. squared $L^2$ norm)."
   ]
  },
  {
   "cell_type": "markdown",
   "metadata": {},
   "source": [
    "*We know that $L = U \\Lambda U^\\top = S S^\\top$, where $\\Lambda^\\top =\\Lambda$ is a diagonal matrix. Therefore $S=U \\Lambda^{1/2}$. So $S^\\top=\\Lambda^{1/2} U^\\top$. Then \n",
    "$U^\\top u_k$ is a vector of zeros except $1$ at the k-th entry (since the $u_i$ are orthonormal). Multiplying by $\\Lambda^{1/2}$, we get a vector of zeros except $\\lambda_k^{1/2}$ at the k-th entry. Then the L2 norm of this vector ($S^\\top u_k$) is $\\sqrt{\\lambda_k}$. Taking the square gives $\\lambda_k$.*\n"
   ]
  },
  {
   "cell_type": "markdown",
   "metadata": {},
   "source": [
    "What does the quantity $\\| S^\\top x \\|_2^2$ tell us about $x$?"
   ]
  },
  {
   "cell_type": "markdown",
   "metadata": {},
   "source": [
    "*$\\| S^\\top x \\|_2^2$ is a measure of how much the signal $x$ varies across the graph.*"
   ]
  },
  {
   "cell_type": "markdown",
   "metadata": {},
   "source": [
    "### Question 5\n",
    "\n",
    "What is the value of $u_0$, both for the combinatorial and normalized Laplacians?"
   ]
  },
  {
   "cell_type": "markdown",
   "metadata": {},
   "source": [
    "*Since $u_0$ is the first eigenvector, it is more than 5000 dimensional. Writing down such a vector is useless. We chose to plot the entries of the vector.*"
   ]
  },
  {
   "cell_type": "code",
   "execution_count": 18,
   "metadata": {},
   "outputs": [
    {
     "data": {
      "image/png": "[encoded data removed]",
      "text/plain": [
       "<Figure size 432x288 with 2 Axes>"
      ]
     },
     "metadata": {},
     "output_type": "display_data"
    }
   ],
   "source": [
    "u0_normalized = np.load(DATA_FOLDER + 'u0_normalized.npy')\n",
    "u0_unnormalized = np.load(DATA_FOLDER + 'u0_unnormalized.npy')\n",
    "\n",
    "plt.figure()\n",
    "plt.subplot(121)\n",
    "plt.plot(np.real(u0_normalized))\n",
    "plt.title('$u_0$ for normalized laplacian')\n",
    "plt.xlabel('Entry')\n",
    "plt.ylabel('value')\n",
    "plt.subplot(122)\n",
    "plt.plot(np.real(u0_unnormalized))\n",
    "plt.title('$u_0$ for combiantorial laplacian')\n",
    "plt.xlabel('Entry')\n",
    "plt.ylabel('value')\n",
    "plt.show()"
   ]
  },
  {
   "cell_type": "markdown",
   "metadata": {},
   "source": [
    "### Question 6\n",
    "\n",
    "Look at the spectrum of the Laplacian by plotting the eigenvalues.\n",
    "Comment on what you observe."
   ]
  },
  {
   "cell_type": "code",
   "execution_count": 13,
   "metadata": {},
   "outputs": [
    {
     "data": {
      "text/plain": [
       "Text(0,0.5,'Eigenvalue')"
      ]
     },
     "execution_count": 13,
     "metadata": {},
     "output_type": "execute_result"
    },
    {
     "data": {
      "image/png": "[encoded data removed]",
      "text/plain": [
       "<Figure size 432x288 with 1 Axes>"
      ]
     },
     "metadata": {},
     "output_type": "display_data"
    }
   ],
   "source": [
    "plt.plot(eigenvalues)\n",
    "plt.title('Laplacian Spectrum')\n",
    "plt.xlabel('Eigenvalue index')\n",
    "plt.ylabel('Eigenvalue')"
   ]
  },
  {
   "cell_type": "markdown",
   "metadata": {},
   "source": [
    "*We see that the eigenvalue is well inside the theoretical bounds. Also, unsurprisingly, we do not have a biparteite graph.*"
   ]
  },
  {
   "cell_type": "markdown",
   "metadata": {},
   "source": [
    "How many connected components are there in your graph? Answer using the eigenvalues only."
   ]
  },
  {
   "cell_type": "code",
   "execution_count": 14,
   "metadata": {},
   "outputs": [
    {
     "data": {
      "text/plain": [
       "array([-1.96309179e-16,  2.50814625e-01,  2.99631395e-01,  3.39686285e-01,\n",
       "        3.46145938e-01,  3.71966112e-01,  4.02659397e-01,  4.20128875e-01,\n",
       "        4.36375249e-01,  4.52050168e-01])"
      ]
     },
     "execution_count": 14,
     "metadata": {},
     "output_type": "execute_result"
    }
   ],
   "source": [
    "eigenvalues[:10]"
   ]
  },
  {
   "cell_type": "markdown",
   "metadata": {},
   "source": [
    "Is there an upper bound on the eigenvalues, i.e., what is the largest possible eigenvalue? Answer for both the combinatorial and normalized Laplacians."
   ]
  },
  {
   "cell_type": "markdown",
   "metadata": {},
   "source": [
    "*We see that only the first eigenvalue is very small (in the order of float rounding errors). Therefore, there is only one component.<br>\n",
    "There is no theoretical upper bound for eigenvalues for the combinatorial laplacian. For the normalized laplacian the theoretrical upper bound is 2. This bound is only obtained in a biparteite graph. We get the biggest eigenvalue to be ~1.5 for the normalized laplacian and ~1895 for the combinatorial laplacian.*"
   ]
  },
  {
   "cell_type": "markdown",
   "metadata": {},
   "source": [
    "## 3 Laplacian eigenmaps\n",
    "\n",
    "*Laplacian eigenmaps* is a method to embed a graph $\\mathcal{G}$ in a $d$-dimensional Euclidean space.\n",
    "That is, it associates a vector $z_i \\in \\mathbb{R}^d$ to every node $v_i \\in \\mathcal{V}$.\n",
    "The graph $\\mathcal{G}$ is thus embedded as $Z \\in \\mathbb{R}^{N \\times d}$."
   ]
  },
  {
   "cell_type": "markdown",
   "metadata": {},
   "source": [
    "### Question 7\n",
    "\n",
    "What do we use Laplacian eigenmaps for? (Or more generally, graph embeddings.)"
   ]
  },
  {
   "cell_type": "markdown",
   "metadata": {},
   "source": [
    "*Laplacian eigenmaps and graph embeddings in general can be used to represent every vertex of a graph in an Euclidian space such that connected vertices have a small euclidian distance. This allows for a visualization of the graph. Moreover, computing Laplacian eigenmaps of nearest-neighbor graphs provides a tool for dimensionality reduction of complex data that allows to capture non-linear interactions.*"
   ]
  },
  {
   "cell_type": "markdown",
   "metadata": {},
   "source": [
    "### Question 8\n",
    "\n",
    "Embed your graph in $d=2$ dimensions with Laplacian eigenmaps.\n",
    "Try with and without re-normalizing the eigenvectors by the degrees, then keep the one your prefer.\n",
    "\n",
    "**Recompute** the eigenvectors you need with a partial eigendecomposition method for sparse matrices.\n",
    "When $k \\ll N$ eigenvectors are needed, partial eigendecompositions are much more efficient than complete eigendecompositions.\n",
    "A partial eigendecomposition scales as $\\Omega(k |\\mathcal{E}|$), while a complete eigendecomposition costs $\\mathcal{O}(N^3)$ operations."
   ]
  },
  {
   "cell_type": "code",
   "execution_count": 15,
   "metadata": {},
   "outputs": [
    {
     "data": {
      "text/plain": [
       "(3,)"
      ]
     },
     "execution_count": 15,
     "metadata": {},
     "output_type": "execute_result"
    }
   ],
   "source": [
    "D_sparse = sparse.csr_matrix(D,dtype=float)\n",
    "evals_c, evecs_c = sparse.linalg.eigs(laplacian_combinatorial,M=D_sparse,k=3, which='SM')\n",
    "evals_n, evecs_n = sparse.linalg.eigs(laplacian,k=3, which='SM')\n",
    "\n",
    "evals_n.shape\n"
   ]
  },
  {
   "cell_type": "markdown",
   "metadata": {},
   "source": [
    "Plot the nodes embedded in 2D. Comment on what you see."
   ]
  },
  {
   "cell_type": "code",
   "execution_count": 16,
   "metadata": {},
   "outputs": [
    {
     "data": {
      "image/png": "[encoded data removed]",
      "text/plain": [
       "<Figure size 864x648 with 2 Axes>"
      ]
     },
     "metadata": {},
     "output_type": "display_data"
    }
   ],
   "source": [
    "plt.figure(figsize=[12,9])\n",
    "plt.subplot(121)\n",
    "plt.plot(np.real(evecs_c[:,1]),np.real(evecs_c[:,2]),'.',markersize=1)\n",
    "plt.title('Embedding with Combinatorial Laplacian')\n",
    "plt.subplot(122)\n",
    "plt.plot(np.real(evecs_n[:,1]),np.real(evecs_n[:,2]),'.',markersize=1)\n",
    "plt.title('Embedding with Normalized Laplacian')\n",
    "plt.show()"
   ]
  },
  {
   "cell_type": "markdown",
   "metadata": {},
   "source": [
    "*We see that both embeddings (with the combinatorial and normalized laplacian) have one very dense region and some less dense points scattered around them. Moreover, both seem to have a nearly vertical ray of points and some horizontal scattering. The scattering seems to be more uniformely distributed on the embedding with the combinatorial Laplacian. Moreover, no distinct clusters can be visually identified based on these plots.*"
   ]
  },
  {
   "cell_type": "markdown",
   "metadata": {},
   "source": [
    "### Question 9"
   ]
  },
  {
   "cell_type": "markdown",
   "metadata": {},
   "source": [
    "What does the embedding $Z \\in \\mathbb{R}^{N \\times d}$ preserve?"
   ]
  },
  {
   "cell_type": "markdown",
   "metadata": {},
   "source": [
    "*Embedding the Graph in a d-dimensional subspace preserves the neighbourhood of the nodes.*"
   ]
  },
  {
   "cell_type": "markdown",
   "metadata": {},
   "source": [
    "## 2 Spectral clustering\n",
    "\n",
    "*Spectral clustering* is a method to partition a graph into distinct clusters.\n",
    "The method associates a feature vector $z_i \\in \\mathbb{R}^d$ to every node $v_i \\in \\mathcal{V}$, then runs [$k$-means](https://en.wikipedia.org/wiki/K-means_clustering) in the embedding space $\\mathbb{R}^d$ to assign each node $v_i \\in \\mathcal{V}$ to a cluster $c_j \\in \\mathcal{C}$, where $k = |\\mathcal{C}|$ is the number of desired clusters."
   ]
  },
  {
   "cell_type": "markdown",
   "metadata": {},
   "source": [
    "### Question 10\n",
    "\n",
    "Choose $k$ and $d$. How did you get to those numbers?"
   ]
  },
  {
   "cell_type": "code",
   "execution_count": 111,
   "metadata": {},
   "outputs": [
    {
     "data": {
      "image/png": "[encoded data removed]",
      "text/plain": [
       "<Figure size 432x288 with 1 Axes>"
      ]
     },
     "metadata": {},
     "output_type": "display_data"
    }
   ],
   "source": [
    "plt.plot(eigenvalues[:50])\n",
    "plt.vlines(12, 0, .7, linestyle=':', linewidth=1)\n",
    "plt.title('Laplacian Spectrum')\n",
    "plt.xlabel('Eigenvalue index')\n",
    "plt.ylabel('Eigenvalue')\n",
    "plt.show()"
   ]
  },
  {
   "cell_type": "markdown",
   "metadata": {},
   "source": [
    "*When plotting the first 50 eigenvalues, we see a strong increase at first, followed by a decrease in slope after the first 12 eigenvalues (vertical line). This suggests that the graph has 12 clusters, as seen in the course. In order to calculate these clusters, we choose $d=k=12$.*"
   ]
  },
  {
   "cell_type": "code",
   "execution_count": 112,
   "metadata": {},
   "outputs": [],
   "source": [
    "k = 12\n",
    "d = 12"
   ]
  },
  {
   "cell_type": "markdown",
   "metadata": {},
   "source": [
    "### Question 11\n",
    "\n",
    "1. Embed your graph in $\\mathbb{R}^d$ as $Z \\in \\mathbb{R}^{N \\times d}$.\n",
    "   Try with and without re-normalizing the eigenvectors by the degrees, then keep the one your prefer.\n",
    "1. If you want $k=2$ clusters, partition with the Fiedler vector. For $k > 2$ clusters, run $k$-means on $Z$. Don't implement $k$-means, use the `KMeans` class imported from scikit-learn."
   ]
  },
  {
   "cell_type": "code",
   "execution_count": 108,
   "metadata": {},
   "outputs": [],
   "source": [
    "#Since we have more than two categories we will run k-means on Z;\n",
    "Z_test=[[1,1],[1,3],[2,2],[3,9],[4,9],[5,9],[6,2],[7,1],[7,3]]\n",
    "\n",
    "def cl_assign(Z,k):\n",
    "    kmeans = KMeans(n_clusters=k, random_state=0).fit(Z)\n",
    "    return(kmeans.labels_,kmeans.cluster_centers_)"
   ]
  },
  {
   "cell_type": "code",
   "execution_count": 68,
   "metadata": {},
   "outputs": [
    {
     "data": {
      "text/plain": [
       "(array([2, 2, 2, 0, 0, 0, 1, 1, 1], dtype=int32),\n",
       " array([[4.        , 9.        ],\n",
       "        [6.66666667, 2.        ],\n",
       "        [1.33333333, 2.        ]]))"
      ]
     },
     "execution_count": 68,
     "metadata": {},
     "output_type": "execute_result"
    }
   ],
   "source": [
    "cl_assign(Z_test,3)"
   ]
  },
  {
   "cell_type": "code",
   "execution_count": 113,
   "metadata": {},
   "outputs": [
    {
     "name": "stderr",
     "output_type": "stream",
     "text": [
      "/anaconda3/lib/python3.6/site-packages/sklearn/utils/validation.py:433: ComplexWarning: Casting complex values to real discards the imaginary part\n",
      "  array = np.array(array, dtype=dtype, order=order, copy=copy)\n"
     ]
    }
   ],
   "source": [
    "d_evals_c, d_evecs_c = sparse.linalg.eigs(laplacian_combinatorial, M=D_sparse, k=d, which='SM')\n",
    "d_evals_n, d_evecs_n = sparse.linalg.eigs(laplacian_normalized, M=D_sparse, k=d, which='SM')\n",
    "\n",
    "cluster_labels_c, cluster_centers_c = cl_assign(d_evecs_c, k)\n",
    "cluster_labels_n, cluster_centers_n = cl_assign(d_evecs_n, k)"
   ]
  },
  {
   "cell_type": "markdown",
   "metadata": {},
   "source": [
    "**ELBOW Approach:**\n",
    "We plot of the within cluster variation $W_K(C)$ for increasing values of K =1 ,2,...and try to locate a “kink” in the curve. "
   ]
  },
  {
   "cell_type": "code",
   "execution_count": 54,
   "metadata": {},
   "outputs": [],
   "source": [
    "def wk(k,Z):\n",
    "    kmeans = KMeans(n_clusters=k, random_state=0).fit(Z)\n",
    "    clusters=kmeans.labels_\n",
    "    centers=kmeans.cluster_centers_\n",
    "    Liste=list(zip(Z,clusters))\n",
    "    wc=0\n",
    "    for p in range(k):\n",
    "        for points in [Liste[i][0] for i in range(len(Z)) \n",
    "            if Liste[i][1]==p]:\n",
    "                wc=wc+np.linalg.norm(np.array(points)-np.array(centers[p]))**2\n",
    "    return wc \n",
    "\n",
    "def elbow(Z,n):\n",
    "    visu=[]\n",
    "    j = len(Z)+1; \n",
    "    if j >= n: j=n;\n",
    "    for k in range(1,j):\n",
    "        visu.append(wk(k,Z))\n",
    "    plt.plot(np.linspace(1,len(visu),len(visu)),visu)\n",
    "    plt.show()"
   ]
  },
  {
   "cell_type": "code",
   "execution_count": 55,
   "metadata": {},
   "outputs": [
    {
     "name": "stderr",
     "output_type": "stream",
     "text": [
      "/anaconda3/lib/python3.6/site-packages/numpy/core/numeric.py:492: ComplexWarning: Casting complex values to real discards the imaginary part\n",
      "  return array(a, dtype, copy=False, order=order)\n"
     ]
    },
    {
     "data": {
      "text/plain": [
       "[<matplotlib.lines.Line2D at 0x1b0e3acb00>]"
      ]
     },
     "execution_count": 55,
     "metadata": {},
     "output_type": "execute_result"
    },
    {
     "data": {
      "image/png": "[encoded data removed]",
      "text/plain": [
       "<Figure size 432x288 with 1 Axes>"
      ]
     },
     "metadata": {},
     "output_type": "display_data"
    }
   ],
   "source": [
    "plt.plot(evals_n)"
   ]
  },
  {
   "cell_type": "code",
   "execution_count": 56,
   "metadata": {},
   "outputs": [
    {
     "name": "stdout",
     "output_type": "stream",
     "text": [
      "[-1 -1]\n"
     ]
    }
   ],
   "source": [
    "A=np.array([1,2])-np.array([2,3])\n",
    "print(A)"
   ]
  },
  {
   "cell_type": "markdown",
   "metadata": {},
   "source": [
    "### Question 12\n",
    "\n",
    "Use the computed cluster assignment to reorder the adjacency matrix $A$.\n",
    "What do you expect? What do you observe?"
   ]
  },
  {
   "cell_type": "code",
   "execution_count": 70,
   "metadata": {},
   "outputs": [],
   "source": [
    "def reorder(adj,cl_assign):\n",
    "    new_order=[[cl_assign[i],int(np.linspace(0,len(cl_assign),len(cl_assign)+1)[i])] for i in range(len(cl_assign))]\n",
    "    #print(new_order)\n",
    "    new_order.sort()\n",
    "    #print(new_order)\n",
    "    new_order=[i[1] for i in new_order]\n",
    "    #print(new_order)\n",
    "    reordered_adj= [[adj[k][l] for k in new_order] for l in new_order]\n",
    "    return reordered_adj\n",
    "\n",
    "\n"
   ]
  },
  {
   "cell_type": "code",
   "execution_count": 71,
   "metadata": {},
   "outputs": [
    {
     "data": {
      "text/plain": [
       "[[0.0, 14.0, 11.0, 0.0, 7.0, 8.0],\n",
       " [14.0, 0.0, 9.0, 7.0, 0.0, 8.0],\n",
       " [11.0, 9.0, 0.0, 9.0, 15.0, 0.0],\n",
       " [0.0, 7.0, 9.0, 0.0, 0.0, 12.0],\n",
       " [7.0, 0.0, 15.0, 0.0, 0.0, 10.0],\n",
       " [8.0, 8.0, 0.0, 12.0, 10.0, 0.0]]"
      ]
     },
     "execution_count": 71,
     "metadata": {},
     "output_type": "execute_result"
    }
   ],
   "source": [
    "# Testing Function Reorder\n",
    "adja=[[  0.,  15.,   0.,   7.,  10.,   0.],\n",
    "        [ 15.,   0.,   9.,  11.,   0.,   9.],\n",
    "        [  0.,   9.,   0.,   0.,  12.,   7.],\n",
    "        [  7.,  11.,   0.,   0.,   8.,  14.],\n",
    "        [ 10.,   0.,  12.,   8.,   0.,   8.],\n",
    "        [  0.,   9.,   7.,  14.,   8.,   0.]]\n",
    "cl_assign_test=[2,1,1,0,2,0]\n",
    "reorder(adja,cl_assign_test)"
   ]
  },
  {
   "cell_type": "code",
   "execution_count": 110,
   "metadata": {},
   "outputs": [
    {
     "data": {
      "image/png": "[encoded data removed]",
      "text/plain": [
       "<Figure size 864x648 with 3 Axes>"
      ]
     },
     "metadata": {},
     "output_type": "display_data"
    }
   ],
   "source": [
    "reordered_adj_c = reorder(adjacency, cluster_labels_c)\n",
    "reordered_adj_n = reorder(adjacency, cluster_labels_n)\n",
    "\n",
    "plt.figure(figsize=[12,9])\n",
    "plt.subplot(131)\n",
    "plt.title('Original Adjacency Matrix')\n",
    "plt.spy(adjacency)\n",
    "#plt.show()\n",
    "plt.subplot(132)\n",
    "plt.title('Reordered with Combinatorial Clust.')\n",
    "plt.spy(reordered_adj_c)\n",
    "#plt.show()\n",
    "plt.subplot(133)\n",
    "plt.title('Reordered with Normalized Clust.')\n",
    "plt.spy(reordered_adj_n)\n",
    "plt.show()"
   ]
  },
  {
   "cell_type": "markdown",
   "metadata": {},
   "source": [
    "*We expect the adjacency matrix to be reordered such that it contains \"boxes\" around the diagonal, and no entries outside of these boxes. For disconnected components, these boxes don't have any connections between them. As clusters get more and more connections between them, the boxes become less defined. We can see that the cluster assignment isn't very clear, with only a few clearly defined boxes on both the combinatorial and normalized clustering, with a lot of connections between them.*"
   ]
  },
  {
   "cell_type": "markdown",
   "metadata": {},
   "source": [
    "### Question 13\n",
    "\n",
    "If you have ground truth clusters for your dataset, compare the cluster assignment from spectral clustering to the ground truth.\n",
    "A simple quantitative measure is to compute the percentage of nodes that have been correctly categorized.\n",
    "If you don't have a ground truth, qualitatively assess the quality of the clustering.\n",
    "\n",
    "Ground truth clusters are the \"real clusters\".\n",
    "For example, the genre of musical tracks in FMA, the category of Wikipedia articles, the spammer status of individuals, etc.\n",
    "Look for the `labels` in the [dataset descriptions](https://github.com/mdeff/ntds_2018/tree/master/projects/README.md)."
   ]
  },
  {
   "cell_type": "code",
   "execution_count": 85,
   "metadata": {},
   "outputs": [],
   "source": [
    "import pandas as pd\n",
    "import re\n",
    "\n",
    "# Load indices of largest component and node categories\n",
    "largest_component_ix = np.load(DATA_FOLDER + 'largest_component_ix.npy')\n",
    "categories_df = pd.read_csv(DATA_FOLDER + 'categories.tsv', \n",
    "                            sep='\\t', encoding='UTF-8',engine='python', comment='#', header=None)\n",
    "categories_df.columns = ['Site','Category']\n",
    "\n",
    "# Get categories, extract first\n",
    "categories = categories_df['Category']\n",
    "categories = categories[largest_component_ix]\n"
   ]
  },
  {
   "cell_type": "code",
   "execution_count": 133,
   "metadata": {},
   "outputs": [],
   "source": [
    "# Modify category to only contain top category\n",
    "categories_re = np.copy(categories)\n",
    "for i in range(categories_re.size):\n",
    "    tmp = categories_re[i]\n",
    "    tmp = re.sub('subject.', '', tmp)\n",
    "    tmp = re.sub('\\..*', '', tmp)\n",
    "    categories_re[i] = tmp\n",
    "\n",
    "unique_categories = np.unique(categories_re)\n",
    "n_cat = unique_categories.size\n",
    "\n",
    "# Create vector with cluster number of truth\n",
    "cluster_truth = np.zeros(n_nodes, dtype='int')\n",
    "for i in range(n_cat):\n",
    "    cat = unique_categories[i]\n",
    "    cluster_truth[categories_re == cat] = i"
   ]
  },
  {
   "cell_type": "code",
   "execution_count": 134,
   "metadata": {},
   "outputs": [],
   "source": [
    "def get_cluster_mat(assignment):\n",
    "    \"\"\"\n",
    "    Input: Vector with cluster assignment for each node\n",
    "    \n",
    "    Output: Matrix with #columns equal to #clusters, which for \n",
    "    every node contains a 1 in the column corresponding to its cluster,\n",
    "    and zero otherwise\n",
    "    \"\"\"\n",
    "    n_nodes = assignment.size\n",
    "    n_clusters = np.max(assignment)\n",
    "    out = np.zeros((n_nodes, n_clusters))\n",
    "    for i in range(n_nodes):\n",
    "        out[i, assignment[i]-1] = 1\n",
    "    return out\n",
    "\n",
    "cluster_mat_c = get_cluster_mat(cluster_labels_c)\n",
    "cluster_mat_n = get_cluster_mat(cluster_labels_n)\n",
    "cluster_mat_truth = get_cluster_mat(cluster_truth)"
   ]
  },
  {
   "cell_type": "markdown",
   "metadata": {},
   "source": [
    "### Question 14\n",
    "\n",
    "Plot the cluster assignment (one color per cluster) on the 2D embedding you computed above with Laplacian eigenmaps."
   ]
  },
  {
   "cell_type": "code",
   "execution_count": null,
   "metadata": {},
   "outputs": [],
   "source": [
    "# Your code here."
   ]
  },
  {
   "cell_type": "markdown",
   "metadata": {},
   "source": [
    "### Question 15\n",
    "\n",
    "Why did we use the eigenvectors of the graph Laplacian as features? Could we use other features for clustering?"
   ]
  },
  {
   "cell_type": "markdown",
   "metadata": {},
   "source": [
    "**Your answer here.**"
   ]
  }
 ],
 "metadata": {
  "kernelspec": {
   "display_name": "Python 3",
   "language": "python",
   "name": "python3"
  },
  "language_info": {
   "codemirror_mode": {
    "name": "ipython",
    "version": 3
   },
   "file_extension": ".py",
   "mimetype": "text/x-python",
   "name": "python",
   "nbconvert_exporter": "python",
   "pygments_lexer": "ipython3",
   "version": "3.6.5"
  }
 },
 "nbformat": 4,
 "nbformat_minor": 2
}
