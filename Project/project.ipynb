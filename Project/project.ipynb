{
 "cells": [
  {
   "cell_type": "markdown",
   "metadata": {},
   "source": [
    "# Project"
   ]
  },
  {
   "cell_type": "code",
   "execution_count": null,
   "metadata": {},
   "outputs": [],
   "source": [
    "# imports\n",
    "import numpy as np\n",
    "from scipy import sparse\n",
    "import scipy.sparse.linalg\n",
    "from matplotlib import pyplot as plt"
   ]
  },
  {
   "cell_type": "markdown",
   "metadata": {},
   "source": [
    "## Data loading"
   ]
  },
  {
   "cell_type": "code",
   "execution_count": null,
   "metadata": {},
   "outputs": [],
   "source": []
  },
  {
   "cell_type": "markdown",
   "metadata": {},
   "source": [
    "## Pagerank applied to wikipedia articles\n"
   ]
  },
  {
   "cell_type": "code",
   "execution_count": null,
   "metadata": {},
   "outputs": [],
   "source": [
    "def page_rank(A,E,eps,maxit):\n",
    "    '''\n",
    "    A: Transition matrix of the graph (sparse)\n",
    "    E: Random Surfer probabilities\n",
    "    eps: stopping criterion ||R_new-R_old||1<eps\n",
    "    maxit: maximum number of iterations   \n",
    "    '''\n",
    "    R = E\n",
    "    maxit_stop = True\n",
    "    for i in range(maxit):\n",
    "        R_new = A.dot(E)\n",
    "        d = np.linalg.norm(R_new,ord=1) - np.linalg.norm(R,ord=1)\n",
    "        R_new = R_new + d*E\n",
    "        if(np.linalg.norm(R_new-R)<eps):\n",
    "            maxit_stop = false\n",
    "    if(maxit_stop):\n",
    "        print('Stopped due to maximum iteration condition')\n",
    "    else:\n",
    "        print('Stopped due to epsilon condition')\n",
    "    "
   ]
  },
  {
   "cell_type": "code",
   "execution_count": null,
   "metadata": {},
   "outputs": [],
   "source": []
  }
 ],
 "metadata": {
  "kernelspec": {
   "display_name": "Python 3",
   "language": "python",
   "name": "python3"
  },
  "language_info": {
   "codemirror_mode": {
    "name": "ipython",
    "version": 3
   },
   "file_extension": ".py",
   "mimetype": "text/x-python",
   "name": "python",
   "nbconvert_exporter": "python",
   "pygments_lexer": "ipython3",
   "version": "3.7.0"
  }
 },
 "nbformat": 4,
 "nbformat_minor": 2
}
